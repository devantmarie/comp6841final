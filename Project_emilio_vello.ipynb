{
 "cells": [
  {
   "cell_type": "markdown",
   "metadata": {
    "id": "TZzv25vDL9LQ"
   },
   "source": [
    "# **Project Title**"
   ]
  },
  {
   "cell_type": "markdown",
   "metadata": {
    "id": "MP7fynuIMGlg"
   },
   "source": [
    "## **Abstract**\n",
    "\n",
    "Non-coding RNA (ncRNA) molecules play essential roles in the existence of life. In other words, without these ribonucleic acid chains, life would not be possible. For example, ncRNAs are involved in gene translation into proteins and the regulation of gene expression. Knowing the class of ncRNAs allows us to infer their functions.\n",
    "\n",
    "However, the exploration of deep learning techniques to improve ncRNA identification is still in its early stages. In this project, I propose to develop various deep learning models and transformations, progressing from simple to more complex architectures, to classify ncRNAs based on their primary structure (sequence) using the Rfam database—one of the most comprehensive repositories of manually curated RNA sequences.\n",
    "\n",
    "To evaluate the models, I will use performance metrics such as accuracy, sensitivity, specificity, precision, and F-score, comparing the results both within this study and with findings from the literature. The main challenge lies in the possibility that RNA classification may not rely entirely on its primary structure, which could limit the model’s performance.\n",
    "\n"
   ]
  },
  {
   "cell_type": "markdown",
   "metadata": {
    "id": "wBGDBctaMYYQ"
   },
   "source": [
    "## **Introduction**\n",
    "\n",
    "The classification of ncRNAs is essential in genetic research to infer their roles in various biological processes, understand their functions, and develop new treatments for illnesses such as cancer.\n",
    "\n",
    "We can identify different classes of ncRNAs (Fiannaca et al., 2017; Zhang et al., 2021).\n",
    "\n",
    "- **miRNA** (MicroRNA) – Small ncRNA molecules that regulate gene expression. They can act as oncogenes by suppressing tumor suppressors or as tumor suppressors by downregulating oncogenes.\n",
    "- **snRNA** (Small Nuclear RNA) – Involved in the processing of pre-mRNA, mainly functioning within the spliceosome.\n",
    "- **snoRNA** (Small Nucleolar RNA) – A subclass of snRNA that modifies rRNA and is linked to cancer progression, - such as snoRNA U50 in breast cancer.\n",
    "- **lncRNA** (Long Non-Coding RNA) – ncRNA longer than 200 nucleotides with roles in gene regulation. Dysregulated - lncRNAs are associated with cancer and may serve as prognostic markers.\n",
    "- **siRNA** (Silencing RNA) – Short double-stranded RNA molecules that mediate RNA interference (RNAi) to degrade target mRNA and suppress gene expression.\n",
    "- **tRNA** (Transfer RNA) – Essential for protein synthesis, tRNA carries amino acids to the ribosome and ensures proper translation of mRNA into proteins.\n",
    "- **Riboswitches** – Structured ncRNA domains that bind metabolites and regulate gene expression without protein involvement, indicating a key role in gene regulation.\n",
    "- **IRES** (Internal Ribosome Entry Sites) – RNA elements that enable translation initiation independently of the 5' cap, playing a role in stress responses and viral translation.\n",
    "\n",
    "\n",
    "The main goal of this project is to determine the class to which a given ncRNA belongs. Additionally, an attempt will be made to distinguish non-coding RNAs from the broader group of RNAs. However, for this project, some classes may be grouped together, or the dataset may be extended as needed.\n",
    "\n",
    "This is a classification problem, and various techniques learned during the course will be applied to address it. The process will begin with a simple logistic regression model, followed by the implementation of more complex CNN and RNN models. In a practical and simplified manner, this task can be compared to identifying a cat or a dog in an image or recognizing a number—similar to how CNNs have been used—or to the exercise in Lab 5: “Does it contain ones?” (RNN). However, the complexity of the problem and the numerous possible combinations of these tools will be explored further.\n",
    "\n",
    "Beyond the model itself, different data transformations can also be experimented with. As discussed with the TA, the sequence could be transformed into a one-hot encoded matrix, or the bases (letters of the sequence) could be grouped into sets of two, three, etc.\n",
    "\t\n",
    "\n",
    "\n",
    "In this section, you can add **text** and **figures**."
   ]
  },
  {
   "cell_type": "markdown",
   "metadata": {
    "id": "XtzOOJDnMpWp"
   },
   "source": [
    "## **Methodology**\n",
    "Describe the important steps you took to achieve your goal. Focus more on the most important steps (preprocessing, extra features, model aspects) that turned out to be important. Mention the original aspects of the project and state how they relate to existing work.\n",
    "\n",
    "In this section, you can add **text** and **figures**. For instance, it is strongly suggested to add a picture of the best machine learning model that you implemented to solve your problem (and describe it).\n",
    "\n",
    "Data ProcessingTo facilitate classification, RNA sequences are preprocessed using various transformation techniques. Two primary approaches are considered:\n",
    "\n",
    "- One-hot encoding: Each nucleotide in the sequence is represented as a binary vector.\n",
    "\n",
    "- K-mer encoding: Sequences are transformed into overlapping substrings (k-mers) of length two, three, or more, capturing sequence dependencies.\n",
    "\n",
    "These transformations allow the models to capture essential sequence features relevant for classification.\n"
   ]
  },
  {
   "cell_type": "markdown",
   "metadata": {
    "id": "YIQOcLeaPq3v"
   },
   "source": [
    "## **Experimental Setup**\n",
    "Describe the datasets used for your experiments. List the machine learning techniques used to solve your problem and report the corresponding hyperparameters.\n",
    "In this section, you can add **text**, **tables**, and **figures**.\n",
    "\n",
    "\n",
    "For the dataset, I will use a subset of Rfam, one of the most comprehensive repositories of manually curated RNA sequences. This selection was made by Fiannaca et al. (2017).\n",
    "\n",
    "As shown in the image below, each RNA sequence starts with an identifier after the < symbol, followed by a space and the RNA class, then the sequence itself. Therefore, preprocessing is required. The dataset is already divided into 6,320 ncRNA FASTA sequences for training and two validation datasets, consisting of 2,600 and 2,400 ncRNA FASTA sequences, respectively. However, I may create other distribution of the sets. \n",
    "\n",
    "https://github.com/IcarPA-TBlab/nrc/tree/master?tab=readme-ov-file\n",
    "\n",
    "\n"
   ]
  },
  {
   "cell_type": "markdown",
   "metadata": {},
   "source": [
    "![DataSet Example](datafiles/printscreendata.jpeg)"
   ]
  },
  {
   "cell_type": "code",
   "execution_count": null,
   "metadata": {},
   "outputs": [],
   "source": []
  },
  {
   "cell_type": "markdown",
   "metadata": {},
   "source": [
    "![DataSet Example](datafiles/Fiannaca_et_al_2017.png)\n",
    "\n",
    "Fiannaca et al. 2017"
   ]
  },
  {
   "cell_type": "markdown",
   "metadata": {
    "id": "BRL5KR20QWKu"
   },
   "source": [
    "## **Experimental Results**\n",
    "Describe here the main experimental results. Critically discuss them. Compare them with results available in the literature (if applicable).\n",
    "\n",
    "In this section, you can add **text** and **figures**, **tables**, **plots**, and **code**. Make sure the code is runnable and replicable."
   ]
  },
  {
   "cell_type": "code",
   "execution_count": 1,
   "metadata": {},
   "outputs": [
    {
     "name": "stdout",
     "output_type": "stream",
     "text": [
      "Defaulting to user installation because normal site-packages is not writeable\n",
      "Requirement already satisfied: biopython in /home/emilio/.local/lib/python3.10/site-packages (1.85)\n",
      "Requirement already satisfied: numpy in /home/emilio/.local/lib/python3.10/site-packages (from biopython) (2.1.0)\n",
      "Defaulting to user installation because normal site-packages is not writeable\n",
      "Requirement already satisfied: torch in /home/emilio/.local/lib/python3.10/site-packages (2.6.0)\n",
      "Requirement already satisfied: torchvision in /home/emilio/.local/lib/python3.10/site-packages (0.21.0)\n",
      "Requirement already satisfied: torchaudio in /home/emilio/.local/lib/python3.10/site-packages (2.6.0)\n",
      "Requirement already satisfied: nvidia-cufft-cu12==11.2.1.3 in /home/emilio/.local/lib/python3.10/site-packages (from torch) (11.2.1.3)\n",
      "Requirement already satisfied: nvidia-cuda-cupti-cu12==12.4.127 in /home/emilio/.local/lib/python3.10/site-packages (from torch) (12.4.127)\n",
      "Requirement already satisfied: nvidia-cusparselt-cu12==0.6.2 in /home/emilio/.local/lib/python3.10/site-packages (from torch) (0.6.2)\n",
      "Requirement already satisfied: nvidia-curand-cu12==10.3.5.147 in /home/emilio/.local/lib/python3.10/site-packages (from torch) (10.3.5.147)\n",
      "Requirement already satisfied: networkx in /home/emilio/.local/lib/python3.10/site-packages (from torch) (3.4.2)\n",
      "Requirement already satisfied: nvidia-nvjitlink-cu12==12.4.127 in /home/emilio/.local/lib/python3.10/site-packages (from torch) (12.4.127)\n",
      "Requirement already satisfied: typing-extensions>=4.10.0 in /home/emilio/.local/lib/python3.10/site-packages (from torch) (4.12.2)\n",
      "Requirement already satisfied: nvidia-cuda-nvrtc-cu12==12.4.127 in /home/emilio/.local/lib/python3.10/site-packages (from torch) (12.4.127)\n",
      "Requirement already satisfied: nvidia-cublas-cu12==12.4.5.8 in /home/emilio/.local/lib/python3.10/site-packages (from torch) (12.4.5.8)\n",
      "Requirement already satisfied: nvidia-cudnn-cu12==9.1.0.70 in /home/emilio/.local/lib/python3.10/site-packages (from torch) (9.1.0.70)\n",
      "Requirement already satisfied: nvidia-nvtx-cu12==12.4.127 in /home/emilio/.local/lib/python3.10/site-packages (from torch) (12.4.127)\n",
      "Requirement already satisfied: fsspec in /home/emilio/.local/lib/python3.10/site-packages (from torch) (2025.3.0)\n",
      "Requirement already satisfied: triton==3.2.0 in /home/emilio/.local/lib/python3.10/site-packages (from torch) (3.2.0)\n",
      "Requirement already satisfied: nvidia-nccl-cu12==2.21.5 in /home/emilio/.local/lib/python3.10/site-packages (from torch) (2.21.5)\n",
      "Requirement already satisfied: nvidia-cusparse-cu12==12.3.1.170 in /home/emilio/.local/lib/python3.10/site-packages (from torch) (12.3.1.170)\n",
      "Requirement already satisfied: sympy==1.13.1 in /home/emilio/.local/lib/python3.10/site-packages (from torch) (1.13.1)\n",
      "Requirement already satisfied: nvidia-cusolver-cu12==11.6.1.9 in /home/emilio/.local/lib/python3.10/site-packages (from torch) (11.6.1.9)\n",
      "Requirement already satisfied: nvidia-cuda-runtime-cu12==12.4.127 in /home/emilio/.local/lib/python3.10/site-packages (from torch) (12.4.127)\n",
      "Requirement already satisfied: filelock in /home/emilio/.local/lib/python3.10/site-packages (from torch) (3.18.0)\n",
      "Requirement already satisfied: jinja2 in /home/emilio/.local/lib/python3.10/site-packages (from torch) (3.1.4)\n",
      "Requirement already satisfied: mpmath<1.4,>=1.1.0 in /home/emilio/.local/lib/python3.10/site-packages (from sympy==1.13.1->torch) (1.3.0)\n",
      "Requirement already satisfied: numpy in /home/emilio/.local/lib/python3.10/site-packages (from torchvision) (2.1.0)\n",
      "Requirement already satisfied: pillow!=8.3.*,>=5.3.0 in /usr/lib/python3/dist-packages (from torchvision) (9.0.1)\n",
      "Requirement already satisfied: MarkupSafe>=2.0 in /usr/lib/python3/dist-packages (from jinja2->torch) (2.0.1)\n"
     ]
    }
   ],
   "source": [
    "#Library installation\n",
    "!pip install biopython\n",
    "!pip install torch torchvision torchaudio\n"
   ]
  },
  {
   "cell_type": "code",
   "execution_count": 105,
   "metadata": {},
   "outputs": [
    {
     "data": {
      "text/plain": [
       "<module 'algorithms.runclass' from '/home/emilio/PycharmProjects/comp6841final/algorithms/runclass.py'>"
      ]
     },
     "execution_count": 105,
     "metadata": {},
     "output_type": "execute_result"
    }
   ],
   "source": [
    "# Libraries load\n",
    "import importlib\n",
    "import datasetsnc.dataclasses \n",
    "import modelsnc.modelclasses\n",
    "import algorithms.runclass\n",
    "from datasetsnc.dataclasses import * \n",
    "from modelsnc.modelclasses import *\n",
    "from algorithms.runclass import * \n",
    "importlib.reload(datasetsnc.dataclasses)\n",
    "importlib.reload(modelsnc.modelclasses)\n",
    "importlib.reload(algorithms.runclass) \n",
    "\n"
   ]
  },
  {
   "cell_type": "code",
   "execution_count": 106,
   "metadata": {},
   "outputs": [
    {
     "name": "stdout",
     "output_type": "stream",
     "text": [
      "Epoch 1/3, Loss: 0.3031, Avg Batch Time: 0.0018s\n",
      "Validation Loss: 0.0744, Validation Accuracy: 0.9867\n",
      "Epoch 2/3, Loss: 0.0542, Avg Batch Time: 0.0017s\n",
      "Validation Loss: 0.0476, Validation Accuracy: 0.9911\n",
      "Epoch 3/3, Loss: 0.0292, Avg Batch Time: 0.0018s\n",
      "Validation Loss: 0.0405, Validation Accuracy: 0.9911\n",
      "Final Test Accuracy: 0.9778\n"
     ]
    }
   ],
   "source": [
    "#Overfitting test with a simple model and 1500 samples. I started with 30\n",
    "\n",
    "seq_length = 160\n",
    "simpleModel = SimpleLinear(input_size=seq_length*4)\n",
    "rclass = ImplementDLEv(fastafile=nc_train_file, batch_size=2,num_workers=1, \n",
    "                 model = simpleModel, device=\"cpu\", train_ratio = 0.7,\n",
    "                 val_ratio = 0.15,test_ratio = 0.15,lr=0.001, num_epochs = 3, seq_length = seq_size,\n",
    "                 subset = 1500)\n",
    "\n",
    "rclass.run_train()"
   ]
  },
  {
   "cell_type": "code",
   "execution_count": 108,
   "metadata": {
    "scrolled": true
   },
   "outputs": [
    {
     "name": "stdout",
     "output_type": "stream",
     "text": [
      "Epoch 1/5, Loss: 1.4173, Avg Batch Time: 0.0016s\n",
      "Validation Loss: 1.1048, Validation Accuracy: 0.6551\n",
      "Epoch 2/5, Loss: 0.8723, Avg Batch Time: 0.0016s\n",
      "Validation Loss: 1.0086, Validation Accuracy: 0.6909\n",
      "Epoch 3/5, Loss: 0.7359, Avg Batch Time: 0.0017s\n",
      "Validation Loss: 0.9421, Validation Accuracy: 0.6962\n",
      "Epoch 4/5, Loss: 0.6596, Avg Batch Time: 0.0016s\n",
      "Validation Loss: 0.9634, Validation Accuracy: 0.6878\n",
      "Epoch 5/5, Loss: 0.6099, Avg Batch Time: 0.0016s\n",
      "Validation Loss: 0.9772, Validation Accuracy: 0.6962\n",
      "Final Test Accuracy: 0.7036\n"
     ]
    }
   ],
   "source": [
    "seq_length = 119\n",
    "simpleModel = SimpleLinear(input_size=seq_length*4)\n",
    "rclass = ImplementDLEv(fastafile=nc_train_file, batch_size=2,num_workers=1, \n",
    "                 model = simpleModel, device=\"cpu\", train_ratio = 0.7,\n",
    "                 val_ratio = 0.15,test_ratio = 0.15,lr=0.001, num_epochs = 5, seq_length = seq_length,\n",
    "                 subset = 0)\n",
    "\n",
    "rclass.run_train()"
   ]
  },
  {
   "cell_type": "markdown",
   "metadata": {
    "id": "b4Jyn3BcQDpf"
   },
   "source": [
    "## **Conclusions**\n",
    "\n",
    "Summarize what you could and could not conclude based on your experiments.\n",
    "In this section, you can add **text**.\n",
    "\n"
   ]
  },
  {
   "cell_type": "code",
   "execution_count": null,
   "metadata": {},
   "outputs": [],
   "source": []
  },
  {
   "cell_type": "markdown",
   "metadata": {
    "id": "yaxqlm6kRcmb"
   },
   "source": [
    "## **References**\n",
    "You can add here the citations of books, websites, or academic papers, etc."
   ]
  }
 ],
 "metadata": {
  "colab": {
   "provenance": [
    {
     "file_id": "1MtSbf1n67Sb-l3wq_ATi2QmPiGLfe8nR",
     "timestamp": 1738948120651
    }
   ]
  },
  "kernelspec": {
   "display_name": "Python 3 (ipykernel)",
   "language": "python",
   "name": "python3"
  },
  "language_info": {
   "codemirror_mode": {
    "name": "ipython",
    "version": 3
   },
   "file_extension": ".py",
   "mimetype": "text/x-python",
   "name": "python",
   "nbconvert_exporter": "python",
   "pygments_lexer": "ipython3",
   "version": "3.10.12"
  }
 },
 "nbformat": 4,
 "nbformat_minor": 4
}
