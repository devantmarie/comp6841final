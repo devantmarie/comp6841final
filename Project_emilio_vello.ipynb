{
 "cells": [
  {
   "cell_type": "markdown",
   "metadata": {
    "id": "TZzv25vDL9LQ"
   },
   "source": [
    "# **Project Title**"
   ]
  },
  {
   "cell_type": "markdown",
   "metadata": {
    "id": "MP7fynuIMGlg"
   },
   "source": [
    "## **Abstract**\n",
    "\n",
    "Non-coding RNA (ncRNA) molecules play essential roles in the existence of life. In other words, without these ribonucleic acid chains, life would not be possible. For example, ncRNAs are involved in gene translation into proteins and the regulation of gene expression. Knowing the class of ncRNAs allows us to infer their functions.\n",
    "\n",
    "However, the exploration of deep learning techniques to improve ncRNA identification is still in its early stages. In this project, I propose to develop various deep learning models and transformations, progressing from simple to more complex architectures, to classify ncRNAs based on their primary structure (sequence) using the Rfam database—one of the most comprehensive repositories of manually curated RNA sequences.\n",
    "\n",
    "To evaluate the models, I will use performance metrics such as accuracy, sensitivity, specificity, precision, and F-score, comparing the results both within this study and with findings from the literature. The main challenge lies in the possibility that RNA classification may not rely entirely on its primary structure, which could limit the model’s performance.\n",
    "\n"
   ]
  },
  {
   "cell_type": "markdown",
   "metadata": {
    "id": "wBGDBctaMYYQ"
   },
   "source": [
    "## **Introduction**\n",
    "\n",
    "The classification of ncRNAs is essential in genetic research to infer their roles in various biological processes, understand their functions, and develop new treatments for illnesses such as cancer.\n",
    "\n",
    "We can identify different classes of ncRNAs (Fiannaca et al., 2017; Zhang et al., 2021).\n",
    "\n",
    "- **miRNA** (MicroRNA) – Small ncRNA molecules that regulate gene expression. They can act as oncogenes by suppressing tumor suppressors or as tumor suppressors by downregulating oncogenes.\n",
    "- **snRNA** (Small Nuclear RNA) – Involved in the processing of pre-mRNA, mainly functioning within the spliceosome.\n",
    "- **snoRNA** (Small Nucleolar RNA) – A subclass of snRNA that modifies rRNA and is linked to cancer progression, - such as snoRNA U50 in breast cancer.\n",
    "- **lncRNA** (Long Non-Coding RNA) – ncRNA longer than 200 nucleotides with roles in gene regulation. Dysregulated - lncRNAs are associated with cancer and may serve as prognostic markers.\n",
    "- **siRNA** (Silencing RNA) – Short double-stranded RNA molecules that mediate RNA interference (RNAi) to degrade target mRNA and suppress gene expression.\n",
    "- **tRNA** (Transfer RNA) – Essential for protein synthesis, tRNA carries amino acids to the ribosome and ensures proper translation of mRNA into proteins.\n",
    "- **Riboswitches** – Structured ncRNA domains that bind metabolites and regulate gene expression without protein involvement, indicating a key role in gene regulation.\n",
    "- **IRES** (Internal Ribosome Entry Sites) – RNA elements that enable translation initiation independently of the 5' cap, playing a role in stress responses and viral translation.\n",
    "\n",
    "\n",
    "The main goal of this project is to determine the class to which a given ncRNA belongs. Additionally, an attempt will be made to distinguish non-coding RNAs from the broader group of RNAs. However, for this project, some classes may be grouped together, or the dataset may be extended as needed.\n",
    "\n",
    "This is a classification problem, and various techniques learned during the course will be applied to address it. The process will begin with a simple logistic regression model, followed by the implementation of more complex CNN and RNN models. In a practical and simplified manner, this task can be compared to identifying a cat or a dog in an image or recognizing a number—similar to how CNNs have been used—or to the exercise in Lab 5: “Does it contain ones?” (RNN). However, the complexity of the problem and the numerous possible combinations of these tools will be explored further.\n",
    "\n",
    "Beyond the model itself, different data transformations can also be experimented with. As discussed with the TA, the sequence could be transformed into a one-hot encoded matrix, or the bases (letters of the sequence) could be grouped into sets of two, three, etc.\n",
    "\t\n",
    "\n",
    "\n",
    "In this section, you can add **text** and **figures**."
   ]
  },
  {
   "cell_type": "markdown",
   "metadata": {
    "id": "XtzOOJDnMpWp"
   },
   "source": [
    "## **Methodology**\n",
    "Describe the important steps you took to achieve your goal. Focus more on the most important steps (preprocessing, extra features, model aspects) that turned out to be important. Mention the original aspects of the project and state how they relate to existing work.\n",
    "\n",
    "In this section, you can add **text** and **figures**. For instance, it is strongly suggested to add a picture of the best machine learning model that you implemented to solve your problem (and describe it).\n",
    "\n",
    "Data ProcessingTo facilitate classification, RNA sequences are preprocessed using various transformation techniques. Two primary approaches are considered:\n",
    "\n",
    "- One-hot encoding: Each nucleotide in the sequence is represented as a binary vector.\n",
    "\n",
    "- K-mer encoding: Sequences are transformed into overlapping substrings (k-mers) of length two, three, or more, capturing sequence dependencies.\n",
    "\n",
    "These transformations allow the models to capture essential sequence features relevant for classification.\n"
   ]
  },
  {
   "cell_type": "markdown",
   "metadata": {
    "id": "YIQOcLeaPq3v"
   },
   "source": [
    "## **Experimental Setup**\n",
    "Describe the datasets used for your experiments. List the machine learning techniques used to solve your problem and report the corresponding hyperparameters.\n",
    "In this section, you can add **text**, **tables**, and **figures**.\n",
    "\n",
    "\n",
    "For the dataset, I will use a subset of Rfam, one of the most comprehensive repositories of manually curated RNA sequences. This selection was made by Fiannaca et al. (2017).\n",
    "\n",
    "As shown in the image below, each RNA sequence starts with an identifier after the < symbol, followed by a space and the RNA class, then the sequence itself. Therefore, preprocessing is required. The dataset is already divided into 6,320 ncRNA FASTA sequences for training and two validation datasets, consisting of 2,600 and 2,400 ncRNA FASTA sequences, respectively. However, I may create other distribution of the sets. \n",
    "\n",
    "https://github.com/IcarPA-TBlab/nrc/tree/master?tab=readme-ov-file\n",
    "\n",
    "\n"
   ]
  },
  {
   "cell_type": "markdown",
   "metadata": {},
   "source": [
    "![DataSet Example](datafiles/printscreendata.jpeg)"
   ]
  },
  {
   "cell_type": "markdown",
   "metadata": {
    "id": "BRL5KR20QWKu"
   },
   "source": [
    "## **Experimental Results**\n",
    "Describe here the main experimental results. Critically discuss them. Compare them with results available in the literature (if applicable).\n",
    "\n",
    "In this section, you can add **text** and **figures**, **tables**, **plots**, and **code**. Make sure the code is runnable and replicable."
   ]
  },
  {
   "cell_type": "markdown",
   "metadata": {
    "id": "b4Jyn3BcQDpf"
   },
   "source": [
    "## **Conclusions**\n",
    "\n",
    "Summarize what you could and could not conclude based on your experiments.\n",
    "In this section, you can add **text**.\n",
    "\n"
   ]
  },
  {
   "cell_type": "code",
   "execution_count": null,
   "metadata": {},
   "outputs": [],
   "source": []
  },
  {
   "cell_type": "markdown",
   "metadata": {
    "id": "yaxqlm6kRcmb"
   },
   "source": [
    "## **References**\n",
    "You can add here the citations of books, websites, or academic papers, etc."
   ]
  }
 ],
 "metadata": {
  "colab": {
   "provenance": [
    {
     "file_id": "1MtSbf1n67Sb-l3wq_ATi2QmPiGLfe8nR",
     "timestamp": 1738948120651
    }
   ]
  },
  "kernelspec": {
   "display_name": "Python 3 (ipykernel)",
   "language": "python",
   "name": "python3"
  },
  "language_info": {
   "codemirror_mode": {
    "name": "ipython",
    "version": 3
   },
   "file_extension": ".py",
   "mimetype": "text/x-python",
   "name": "python",
   "nbconvert_exporter": "python",
   "pygments_lexer": "ipython3",
   "version": "3.10.12"
  }
 },
 "nbformat": 4,
 "nbformat_minor": 4
}
