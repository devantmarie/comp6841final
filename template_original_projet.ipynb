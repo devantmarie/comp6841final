{
 "cells": [
  {
   "cell_type": "markdown",
   "metadata": {
    "id": "w_EZrSk9LnwB"
   },
   "source": [
    "In the following, we report a template for the final project. Feel free to modify it to better fit your own project."
   ]
  },
  {
   "cell_type": "markdown",
   "metadata": {
    "id": "TZzv25vDL9LQ"
   },
   "source": [
    "# **Project Title**"
   ]
  },
  {
   "cell_type": "markdown",
   "metadata": {
    "id": "MP7fynuIMGlg"
   },
   "source": [
    "## **Abstract**\n",
    "   Abstract here. Give an executive summary of your project: goal, methods, results, conclusions. Usually no more than 200 words.\n"
   ]
  },
  {
   "cell_type": "markdown",
   "metadata": {
    "id": "wBGDBctaMYYQ"
   },
   "source": [
    "## **Introduction**\n",
    "\n",
    "Here you have to explain the problem that you are solving. Explain why it is important, and what are the main challenges. Mention previous attempts (add papers as references) to solve it. Mainly focus on the techniques closely related to our approach. Briefly describe your approach and explain why it is promising for solving the addressed problem. Mention the dataset and the main results achieved.\n",
    "\n",
    "In this section, you can add **text** and **figures**."
   ]
  },
  {
   "cell_type": "markdown",
   "metadata": {
    "id": "XtzOOJDnMpWp"
   },
   "source": [
    "## **Methodology**\n",
    "Describe the important steps you took to achieve your goal. Focus more on the most important steps (preprocessing, extra features, model aspects) that turned out to be important. Mention the original aspects of the project and state how they relate to existing work.\n",
    "\n",
    "In this section, you can add **text** and **figures**. For instance, it is strongly suggested to add a picture of the best machine learning model that you implemented to solve your problem (and describe it).\n"
   ]
  },
  {
   "cell_type": "markdown",
   "metadata": {
    "id": "YIQOcLeaPq3v"
   },
   "source": [
    "## **Experimental Setup**\n",
    "Describe the datasets used for your experiments. List the machine learning techniques used to solve your problem and report the corresponding hyperparameters.\n",
    "\n",
    "In this section, you can add **text**, **tables**, and **figures**."
   ]
  },
  {
   "cell_type": "markdown",
   "metadata": {
    "id": "BRL5KR20QWKu"
   },
   "source": [
    "## **Experimental Results**\n",
    "Describe here the main experimental results. Critically discuss them. Compare them with results available in the literature (if applicable).\n",
    "\n",
    "In this section, you can add **text** and **figures**, **tables**, **plots**, and **code**. Make sure the code is runnable and replicable."
   ]
  },
  {
   "cell_type": "markdown",
   "metadata": {
    "id": "b4Jyn3BcQDpf"
   },
   "source": [
    "## **Conclusions**\n",
    "\n",
    "Summarize what you could and could not conclude based on your experiments.\n",
    "In this section, you can add **text**.\n",
    "\n"
   ]
  },
  {
   "cell_type": "markdown",
   "metadata": {
    "id": "yaxqlm6kRcmb"
   },
   "source": [
    "## **References**\n",
    "You can add here the citations of books, websites, or academic papers, etc."
   ]
  }
 ],
 "metadata": {
  "colab": {
   "provenance": [
    {
     "file_id": "1MtSbf1n67Sb-l3wq_ATi2QmPiGLfe8nR",
     "timestamp": 1738948120651
    }
   ]
  },
  "kernelspec": {
   "display_name": "Python 3 (ipykernel)",
   "language": "python",
   "name": "python3"
  },
  "language_info": {
   "codemirror_mode": {
    "name": "ipython",
    "version": 3
   },
   "file_extension": ".py",
   "mimetype": "text/x-python",
   "name": "python",
   "nbconvert_exporter": "python",
   "pygments_lexer": "ipython3",
   "version": "3.10.12"
  }
 },
 "nbformat": 4,
 "nbformat_minor": 4
}
